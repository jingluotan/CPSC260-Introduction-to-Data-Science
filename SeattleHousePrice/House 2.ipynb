{
  "nbformat": 4,
  "nbformat_minor": 0,
  "metadata": {
    "colab": {
      "provenance": []
    },
    "kernelspec": {
      "name": "python3",
      "display_name": "Python 3"
    },
    "language_info": {
      "name": "python"
    }
  },
  "cells": [
    {
      "cell_type": "code",
      "execution_count": 4,
      "metadata": {
        "colab": {
          "base_uri": "https://localhost:8080/"
        },
        "id": "xGbOfehOzvMb",
        "outputId": "5357c376-5e99-430e-f050-4a5bf26b8fd7"
      },
      "outputs": [
        {
          "output_type": "stream",
          "name": "stdout",
          "text": [
            "(505, 8)\n"
          ]
        }
      ],
      "source": [
        "import pandas as pd\n",
        "\n",
        "house = pd.read_csv(\"HousePrice.csv\")\n",
        "\n",
        "print(house.shape)"
      ]
    },
    {
      "cell_type": "code",
      "source": [
        "house = house.drop_duplicates()#delete the duplicate data\n",
        "\n",
        "print(house.shape)"
      ],
      "metadata": {
        "colab": {
          "base_uri": "https://localhost:8080/"
        },
        "id": "x7l9qyKmmA2-",
        "outputId": "b5f349d9-f31e-45c7-84bd-3ce01c457dbb"
      },
      "execution_count": 18,
      "outputs": [
        {
          "output_type": "stream",
          "name": "stdout",
          "text": [
            "(504, 9)\n"
          ]
        }
      ]
    },
    {
      "cell_type": "code",
      "source": [
        "print(house.describe())"
      ],
      "metadata": {
        "colab": {
          "base_uri": "https://localhost:8080/"
        },
        "id": "ZDeYLgjFoV0y",
        "outputId": "ba3471ef-28e4-44db-c98c-8c3d53061c99"
      },
      "execution_count": 19,
      "outputs": [
        {
          "output_type": "stream",
          "name": "stdout",
          "text": [
            "             beds       baths         size     lot_size      zip_code  \\\n",
            "count  504.000000  504.000000   504.000000   427.000000    504.000000   \n",
            "mean     2.958333    2.222222  1854.771825  4003.813981  98125.220238   \n",
            "std      1.213022    1.012949   921.120496  2693.165468     24.681935   \n",
            "min      1.000000    1.000000   376.000000     0.230000  98101.000000   \n",
            "25%      2.000000    1.500000  1173.250000  1365.000000  98108.000000   \n",
            "50%      3.000000    2.000000  1690.000000  4192.000000  98118.000000   \n",
            "75%      4.000000    2.500000  2402.500000  6000.000000  98126.000000   \n",
            "max      9.000000    7.000000  6139.000000  9974.000000  98199.000000   \n",
            "\n",
            "              price  \n",
            "count  5.040000e+02  \n",
            "mean   9.795417e+05  \n",
            "std    6.090798e+05  \n",
            "min    1.700000e+05  \n",
            "25%    6.197425e+05  \n",
            "50%    8.400000e+05  \n",
            "75%    1.156250e+06  \n",
            "max    6.250000e+06  \n"
          ]
        }
      ]
    },
    {
      "cell_type": "code",
      "source": [
        "def house_type(type):#Room size according to number of beds\n",
        "  if type >= 5:\n",
        "    return \"large\"\n",
        "  elif type >=3 and type <5:\n",
        "    return \"median\"\n",
        "  else:\n",
        "    return \"small\"\n",
        "\n",
        "\n",
        "house[\"type\"] = house[\"beds\"].apply(house_type)\n",
        "\n",
        "print(house[\"beds\"].describe())\n",
        "\n",
        "print(house.head)"
      ],
      "metadata": {
        "colab": {
          "base_uri": "https://localhost:8080/"
        },
        "collapsed": true,
        "id": "oQkh2uICIIBp",
        "outputId": "31479280-c9c4-4f65-df7c-18f663b9458d"
      },
      "execution_count": 20,
      "outputs": [
        {
          "output_type": "stream",
          "name": "stdout",
          "text": [
            "count    504.000000\n",
            "mean       2.958333\n",
            "std        1.213022\n",
            "min        1.000000\n",
            "25%        2.000000\n",
            "50%        3.000000\n",
            "75%        4.000000\n",
            "max        9.000000\n",
            "Name: beds, dtype: float64\n",
            "<bound method NDFrame.head of      beds  baths    size size_units  lot_size lot_size_units  zip_code  \\\n",
            "0       3    3.0  2850.0       sqft   4200.00           sqft     98119   \n",
            "1       4    5.0  3040.0       sqft   5002.00           sqft     98106   \n",
            "2       3    1.0  1290.0       sqft   6048.00           sqft     98125   \n",
            "3       3    2.0  2360.0       sqft      0.28           acre     98188   \n",
            "4       3    3.5  1942.0       sqft   1603.00           sqft     98107   \n",
            "..    ...    ...     ...        ...       ...            ...       ...   \n",
            "500     5    4.5  5580.0       sqft      0.30           acre     98146   \n",
            "501     3    2.5  1390.0       sqft   1570.00           sqft     98126   \n",
            "502     3    2.5  2950.0       sqft      0.47           acre     98118   \n",
            "503     5    5.0  3010.0       sqft   4887.00           sqft     98115   \n",
            "504     3    2.0  1301.0       sqft   3000.00           sqft     98103   \n",
            "\n",
            "         price    type  \n",
            "0    1175000.0  median  \n",
            "1    1057500.0  median  \n",
            "2     799000.0  median  \n",
            "3     565000.0  median  \n",
            "4    1187000.0  median  \n",
            "..         ...     ...  \n",
            "500  3800000.0   large  \n",
            "501   575000.0  median  \n",
            "502  3105000.0  median  \n",
            "503  1807000.0   large  \n",
            "504   895000.0  median  \n",
            "\n",
            "[504 rows x 9 columns]>\n"
          ]
        }
      ]
    }
  ]
}